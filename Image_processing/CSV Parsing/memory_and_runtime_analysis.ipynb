{
 "cells": [
  {
   "cell_type": "code",
   "execution_count": 9,
   "id": "6ac8256a",
   "metadata": {},
   "outputs": [],
   "source": [
    "#!pip install memory_profiler\n",
    "import time\n",
    "from os import listdir\n",
    "from os.path import isfile, join\n",
    "\n",
    "import matplotlib.pyplot as plt\n",
    "import numpy as np\n",
    "import pandas as pd\n",
    "from memory_profiler import profile\n",
    "from scipy.interpolate import interp1d\n",
    "\n",
    "source_directory = 'points'\n",
    "output_csv_directory = 'output_csv'\n",
    "output_jpg_directory = 'output_jpg'"
   ]
  },
  {
   "cell_type": "code",
   "execution_count": 10,
   "id": "02c7205b",
   "metadata": {},
   "outputs": [],
   "source": [
    "def parse_xlsx(source_directory, output_csv_directory, output_jpg_directory):\n",
    "    files = [f for f in listdir(source_directory) if isfile(join(source_directory, f))]\n",
    "\n",
    "    for curr in files:\n",
    "        filepath = source_directory + '/' + curr\n",
    "        df = pd.read_excel(filepath)\n",
    "        material = df.columns[0]\n",
    "        df = df.drop(index=0)\n",
    "        arr = df.to_numpy(dtype='float64')\n",
    "        temps, index, counts = np.unique(df.values.T[0], return_index=True, return_inverse=False, return_counts=True)\n",
    "        for i in range(len(temps)):\n",
    "            start = index[i]\n",
    "            end = index[i] + counts[i]\n",
    "            strain = arr.T[1][start:end]\n",
    "            stress = arr.T[2][start:end]\n",
    "\n",
    "            # Create a cubic spline interpolation function\n",
    "            f = interp1d(strain, stress, kind='cubic')\n",
    "\n",
    "            # Create a vector of x values to interpolate over\n",
    "            x_interp = np.linspace(strain[0], strain[-1], 1000)\n",
    "\n",
    "            # Use the spline interpolation function to interpolate the y values\n",
    "            y_interp = f(x_interp)\n",
    "\n",
    "            # Write x and y values to a CSV file\n",
    "            csv_file = f'{output_csv_directory}/{material}_{temps[i]}°C.csv'\n",
    "            with open(csv_file, 'w') as file:\n",
    "                file.write('Strain,Stress\\n')\n",
    "                for j in range(len(x_interp)):\n",
    "                    file.write(f'{x_interp[j]},{y_interp[j]}\\n')\n",
    "\n",
    "            # Plot the interpolated curve and original data points\n",
    "            plt.plot(x_interp, y_interp)\n",
    "\n",
    "            # Add axis labels, title, and legend\n",
    "            plt.xlabel('Strain [%]')\n",
    "            plt.ylabel('Stress [MPa]')\n",
    "\n",
    "            # plt.title('Stress-Strain Curve for ~MATERIAL NAME Temperature~')\n",
    "            title = f'Stress-Strain Curve for {material}/{temps[i]}°C'\n",
    "            plt.title(title)\n",
    "\n",
    "            image_path = f'{output_jpg_directory}/{material}_{temps[i]}°C.jpg'\n",
    "            plt.savefig(image_path)\n",
    "\n",
    "            plt.clf()"
   ]
  },
  {
   "cell_type": "code",
   "execution_count": 11,
   "id": "e0f90ff8",
   "metadata": {},
   "outputs": [
    {
     "data": {
      "text/plain": [
       "<Figure size 432x288 with 0 Axes>"
      ]
     },
     "metadata": {},
     "output_type": "display_data"
    }
   ],
   "source": [
    "start = time.time_ns()\n",
    "\n",
    "parse_xlsx(source_directory, output_csv_directory, output_jpg_directory)\n",
    "\n",
    "end = time.time_ns()"
   ]
  },
  {
   "cell_type": "code",
   "execution_count": 12,
   "id": "9ff3e4ed",
   "metadata": {},
   "outputs": [
    {
     "name": "stdout",
     "output_type": "stream",
     "text": [
      "Runtime for 2 materials (5 outputs in total): \n",
      "0.2769713\n"
     ]
    }
   ],
   "source": [
    "print(\"Runtime for 2 materials (5 outputs in total): \")\n",
    "print(float(end - start) / (10 ** 9))"
   ]
  },
  {
   "cell_type": "code",
   "execution_count": 13,
   "id": "77c2ba7a",
   "metadata": {},
   "outputs": [
    {
     "name": "stdout",
     "output_type": "stream",
     "text": [
      "Filename: parse_xlsx.py\n",
      "\n",
      "Line #    Mem usage    Increment  Occurrences   Line Contents\n",
      "=============================================================\n",
      "    15    105.9 MiB    105.9 MiB           1   @profile\n",
      "    16                                         def parse_xlsx(source_directory, output_csv_directory, output_jpg_directory):\n",
      "    17    105.9 MiB      0.0 MiB           5       files = [f for f in listdir(source_directory) if isfile(join(source_directory, f))]\n",
      "    18                                         \n",
      "    19    124.8 MiB      0.0 MiB           3       for curr in files:\n",
      "    20    123.3 MiB      0.0 MiB           2           filepath = source_directory + '/' + curr\n",
      "    21    123.5 MiB     11.6 MiB           2           df = pd.read_excel(filepath)\n",
      "    22    123.5 MiB      0.0 MiB           2           material = df.columns[0]\n",
      "    23    123.5 MiB      0.1 MiB           2           df = df.drop(index=0)\n",
      "    24    123.5 MiB      0.0 MiB           2           arr = df.to_numpy(dtype='float64')\n",
      "    25    123.5 MiB      0.0 MiB           2           temps, index, counts = np.unique(df.values.T[0], return_index=True, return_inverse=False, return_counts=True)\n",
      "    26    124.8 MiB      0.0 MiB           7           for i in range(len(temps)):\n",
      "    27    124.2 MiB      0.0 MiB           5               start = index[i]\n",
      "    28    124.2 MiB      0.0 MiB           5               end = index[i] + counts[i]\n",
      "    29    124.2 MiB      0.0 MiB           5               strain = arr.T[1][start:end]\n",
      "    30    124.2 MiB      0.0 MiB           5               stress = arr.T[2][start:end]\n",
      "    31                                         \n",
      "    32                                                     # Create a cubic spline interpolation function\n",
      "    33    124.2 MiB      1.4 MiB           5               f = interp1d(strain, stress, kind='cubic')\n",
      "    34                                         \n",
      "    35                                                     # Create a vector of x values to interpolate over\n",
      "    36    124.2 MiB      0.0 MiB           5               x_interp = np.linspace(strain[0], strain[-1], 1000)\n",
      "    37                                         \n",
      "    38                                                     # Use the spline interpolation function to interpolate the y values\n",
      "    39    124.2 MiB      0.0 MiB           5               y_interp = f(x_interp)\n",
      "    40                                         \n",
      "    41                                                     # Write x and y values to a CSV file\n",
      "    42    124.2 MiB      0.0 MiB           5               csv_file = f'{output_csv_directory}/{material}_{temps[i]}°C.csv'\n",
      "    43    124.2 MiB      0.0 MiB           5               with open(csv_file, 'w') as file:\n",
      "    44    124.2 MiB      0.0 MiB           5                   file.write('Strain,Stress\\n')\n",
      "    45    124.2 MiB      0.0 MiB        5005                   for j in range(len(x_interp)):\n",
      "    46    124.2 MiB      0.1 MiB        5000                       file.write(f'{x_interp[j]},{y_interp[j]}\\n')\n",
      "    47                                         \n",
      "    48                                                     # Plot the interpolated curve and original data points\n",
      "    49    124.3 MiB      0.7 MiB           5               plt.plot(x_interp, y_interp)\n",
      "    50                                         \n",
      "    51                                                     # Add axis labels, title, and legend\n",
      "    52    124.3 MiB      0.0 MiB           5               plt.xlabel('Strain [%]')\n",
      "    53    124.3 MiB      0.0 MiB           5               plt.ylabel('Stress [MPa]')\n",
      "    54                                         \n",
      "    55                                                     # plt.title('Stress-Strain Curve for ~MATERIAL NAME Temperature~')\n",
      "    56    124.3 MiB      0.0 MiB           5               title = f'Stress-Strain Curve for {material}/{temps[i]}°C'\n",
      "    57    124.3 MiB      0.1 MiB           5               plt.title(title)\n",
      "    58                                         \n",
      "    59    124.3 MiB      0.0 MiB           5               image_path = f'{output_jpg_directory}/{material}_{temps[i]}°C.jpg'\n",
      "    60    124.8 MiB      4.8 MiB           5               plt.savefig(image_path)\n",
      "    61                                         \n",
      "    62    124.8 MiB      0.0 MiB           5               plt.clf()\n",
      "\n",
      "\n",
      "2.8562579\n"
     ]
    }
   ],
   "source": [
    "!python -m memory_profiler parse_xlsx.py"
   ]
  },
  {
   "cell_type": "markdown",
   "id": "81811fbb",
   "metadata": {},
   "source": [
    "from this output, we can determine that our program consumes 120 MiB during runtime"
   ]
  },
  {
   "cell_type": "code",
   "execution_count": null,
   "id": "d2bf291d",
   "metadata": {},
   "outputs": [],
   "source": []
  }
 ],
 "metadata": {
  "kernelspec": {
   "display_name": "Python 3 (ipykernel)",
   "language": "python",
   "name": "python3"
  },
  "language_info": {
   "codemirror_mode": {
    "name": "ipython",
    "version": 3
   },
   "file_extension": ".py",
   "mimetype": "text/x-python",
   "name": "python",
   "nbconvert_exporter": "python",
   "pygments_lexer": "ipython3",
   "version": "3.9.12"
  }
 },
 "nbformat": 4,
 "nbformat_minor": 5
}
