{
 "cells": [
  {
   "cell_type": "markdown",
   "id": "115ffae3",
   "metadata": {},
   "source": [
    "# Script for extracting data from a CAMPUS plastics xlsx file"
   ]
  },
  {
   "cell_type": "code",
   "execution_count": 1,
   "id": "312e7777",
   "metadata": {},
   "outputs": [],
   "source": [
    "# First, we declare our libraries and directories\n",
    "import numpy as np\n",
    "import matplotlib.pyplot as plt\n",
    "from scipy.interpolate import interp1d\n",
    "import os\n",
    "import pandas as pd\n",
    "from os import listdir\n",
    "from os.path import isfile, join\n",
    "import time\n",
    "\n",
    "start = time.time_ns()\n",
    "\n",
    "source_directory = \"points\"\n",
    "output_csv_directory = \"output_csv\"\n",
    "output_img_directory = \"output_jpg\"\n"
   ]
  },
  {
   "cell_type": "code",
   "execution_count": 2,
   "id": "274e049b",
   "metadata": {},
   "outputs": [
    {
     "data": {
      "text/html": [
       "<div>\n",
       "<style scoped>\n",
       "    .dataframe tbody tr th:only-of-type {\n",
       "        vertical-align: middle;\n",
       "    }\n",
       "\n",
       "    .dataframe tbody tr th {\n",
       "        vertical-align: top;\n",
       "    }\n",
       "\n",
       "    .dataframe thead th {\n",
       "        text-align: right;\n",
       "    }\n",
       "</style>\n",
       "<table border=\"1\" class=\"dataframe\">\n",
       "  <thead>\n",
       "    <tr style=\"text-align: right;\">\n",
       "      <th></th>\n",
       "      <th>UDea™ EcoPaXX® Q20HG60 (dry)</th>\n",
       "      <th>Unnamed: 1</th>\n",
       "      <th>Stress-strain (anisotropy)</th>\n",
       "    </tr>\n",
       "  </thead>\n",
       "  <tbody>\n",
       "    <tr>\n",
       "      <th>0</th>\n",
       "      <td>°C</td>\n",
       "      <td>Strain in %</td>\n",
       "      <td>Stress in MPa</td>\n",
       "    </tr>\n",
       "    <tr>\n",
       "      <th>1</th>\n",
       "      <td>p - parallel</td>\n",
       "      <td>NaN</td>\n",
       "      <td>NaN</td>\n",
       "    </tr>\n",
       "    <tr>\n",
       "      <th>2</th>\n",
       "      <td>23</td>\n",
       "      <td>0</td>\n",
       "      <td>0</td>\n",
       "    </tr>\n",
       "    <tr>\n",
       "      <th>3</th>\n",
       "      <td>23</td>\n",
       "      <td>0.28</td>\n",
       "      <td>110</td>\n",
       "    </tr>\n",
       "    <tr>\n",
       "      <th>4</th>\n",
       "      <td>23</td>\n",
       "      <td>0.56</td>\n",
       "      <td>228.11</td>\n",
       "    </tr>\n",
       "  </tbody>\n",
       "</table>\n",
       "</div>"
      ],
      "text/plain": [
       "  UDea™ EcoPaXX® Q20HG60 (dry)   Unnamed: 1 Stress-strain (anisotropy)\n",
       "0                           °C  Strain in %              Stress in MPa\n",
       "1                 p - parallel          NaN                        NaN\n",
       "2                           23            0                          0\n",
       "3                           23         0.28                        110\n",
       "4                           23         0.56                     228.11"
      ]
     },
     "execution_count": 2,
     "metadata": {},
     "output_type": "execute_result"
    }
   ],
   "source": [
    "# We then gather all files, but for the sake of this example...\n",
    "# ...We will only continue the experiment using the first file in the directory\n",
    "\n",
    "files = [f for f in listdir(source_directory) if isfile(join(source_directory, f))]\n",
    "\n",
    "filepath = \"points/\"+files[2]\n",
    "df = pd.read_excel(filepath)\n",
    "\n",
    "df.head()\n"
   ]
  },
  {
   "cell_type": "code",
   "execution_count": 3,
   "id": "ac2ef556",
   "metadata": {},
   "outputs": [
    {
     "name": "stdout",
     "output_type": "stream",
     "text": [
      "UDea™ EcoPaXX® Q20HG60 (dry)\n"
     ]
    }
   ],
   "source": [
    "# Gather the name of the material, for documentation purposes later.\n",
    "material = df.columns[0]\n",
    "print(material)\n"
   ]
  },
  {
   "cell_type": "code",
   "execution_count": 4,
   "id": "32892bfd",
   "metadata": {},
   "outputs": [],
   "source": [
    "# Remove any row that contains anything that is not a number\n",
    "df = df[df.apply(lambda x: pd.to_numeric(x, errors='coerce').notnull().all(), axis=1)]"
   ]
  },
  {
   "cell_type": "code",
   "execution_count": 5,
   "id": "6eb5abd4",
   "metadata": {},
   "outputs": [
    {
     "data": {
      "text/html": [
       "<div>\n",
       "<style scoped>\n",
       "    .dataframe tbody tr th:only-of-type {\n",
       "        vertical-align: middle;\n",
       "    }\n",
       "\n",
       "    .dataframe tbody tr th {\n",
       "        vertical-align: top;\n",
       "    }\n",
       "\n",
       "    .dataframe thead th {\n",
       "        text-align: right;\n",
       "    }\n",
       "</style>\n",
       "<table border=\"1\" class=\"dataframe\">\n",
       "  <thead>\n",
       "    <tr style=\"text-align: right;\">\n",
       "      <th></th>\n",
       "      <th>UDea™ EcoPaXX® Q20HG60 (dry)</th>\n",
       "      <th>Unnamed: 1</th>\n",
       "      <th>Stress-strain (anisotropy)</th>\n",
       "    </tr>\n",
       "  </thead>\n",
       "  <tbody>\n",
       "    <tr>\n",
       "      <th>2</th>\n",
       "      <td>23</td>\n",
       "      <td>0</td>\n",
       "      <td>0</td>\n",
       "    </tr>\n",
       "    <tr>\n",
       "      <th>3</th>\n",
       "      <td>23</td>\n",
       "      <td>0.28</td>\n",
       "      <td>110</td>\n",
       "    </tr>\n",
       "    <tr>\n",
       "      <th>4</th>\n",
       "      <td>23</td>\n",
       "      <td>0.56</td>\n",
       "      <td>228.11</td>\n",
       "    </tr>\n",
       "    <tr>\n",
       "      <th>5</th>\n",
       "      <td>23</td>\n",
       "      <td>0.84</td>\n",
       "      <td>334.62</td>\n",
       "    </tr>\n",
       "    <tr>\n",
       "      <th>6</th>\n",
       "      <td>23</td>\n",
       "      <td>1.12</td>\n",
       "      <td>438.87</td>\n",
       "    </tr>\n",
       "  </tbody>\n",
       "</table>\n",
       "</div>"
      ],
      "text/plain": [
       "  UDea™ EcoPaXX® Q20HG60 (dry) Unnamed: 1 Stress-strain (anisotropy)\n",
       "2                           23          0                          0\n",
       "3                           23       0.28                        110\n",
       "4                           23       0.56                     228.11\n",
       "5                           23       0.84                     334.62\n",
       "6                           23       1.12                     438.87"
      ]
     },
     "execution_count": 5,
     "metadata": {},
     "output_type": "execute_result"
    }
   ],
   "source": [
    "df.head()"
   ]
  },
  {
   "cell_type": "code",
   "execution_count": 6,
   "id": "27b8d68f",
   "metadata": {},
   "outputs": [
    {
     "data": {
      "text/plain": [
       "array([[2.30000e+01, 0.00000e+00, 0.00000e+00],\n",
       "       [2.30000e+01, 2.80000e-01, 1.10000e+02],\n",
       "       [2.30000e+01, 5.60000e-01, 2.28110e+02],\n",
       "       [2.30000e+01, 8.40000e-01, 3.34620e+02],\n",
       "       [2.30000e+01, 1.12000e+00, 4.38870e+02],\n",
       "       [2.30000e+01, 1.39000e+00, 5.42450e+02],\n",
       "       [2.30000e+01, 1.67000e+00, 6.44800e+02],\n",
       "       [2.30000e+01, 1.95000e+00, 7.45110e+02],\n",
       "       [2.30000e+01, 2.23000e+00, 8.42910e+02],\n",
       "       [2.30000e+01, 2.51000e+00, 9.37340e+02],\n",
       "       [2.30000e+01, 2.79000e+00, 1.02195e+03]])"
      ]
     },
     "execution_count": 6,
     "metadata": {},
     "output_type": "execute_result"
    }
   ],
   "source": [
    "# obtain all values in the form of [Temperature_n, x_i, y_i] for all i values that are associated with Temperature_n \n",
    "arr = df.to_numpy(dtype='float64')\n",
    "arr"
   ]
  },
  {
   "cell_type": "code",
   "execution_count": 7,
   "id": "f56c0166",
   "metadata": {},
   "outputs": [],
   "source": [
    "#Obtain the temperatures, Indices on where they start, and how many stress-strain values belong to this temperature\n",
    "\n",
    "#if correct, the length of all 3 arrays should be the same\n",
    "temps,index,counts = np.unique(df.values.T[0], return_index=True, return_inverse=False, return_counts=True)\n"
   ]
  },
  {
   "cell_type": "code",
   "execution_count": 8,
   "id": "50065004",
   "metadata": {},
   "outputs": [
    {
     "data": {
      "text/plain": [
       "array([23], dtype=object)"
      ]
     },
     "execution_count": 8,
     "metadata": {},
     "output_type": "execute_result"
    }
   ],
   "source": [
    "temps"
   ]
  },
  {
   "cell_type": "code",
   "execution_count": 9,
   "id": "814c60ac",
   "metadata": {},
   "outputs": [
    {
     "data": {
      "text/plain": [
       "array([0], dtype=int64)"
      ]
     },
     "execution_count": 9,
     "metadata": {},
     "output_type": "execute_result"
    }
   ],
   "source": [
    "index"
   ]
  },
  {
   "cell_type": "code",
   "execution_count": 10,
   "id": "7ceea402",
   "metadata": {},
   "outputs": [
    {
     "data": {
      "text/plain": [
       "array([11], dtype=int64)"
      ]
     },
     "execution_count": 10,
     "metadata": {},
     "output_type": "execute_result"
    }
   ],
   "source": [
    "counts"
   ]
  },
  {
   "cell_type": "markdown",
   "id": "76dc0877",
   "metadata": {},
   "source": [
    "# Plot The Stress-Strain values for each temperature"
   ]
  },
  {
   "cell_type": "code",
   "execution_count": 11,
   "id": "f9f0a6c1",
   "metadata": {},
   "outputs": [
    {
     "data": {
      "image/png": "[encoded data removed]",
      "text/plain": [
       "<Figure size 432x288 with 1 Axes>"
      ]
     },
     "metadata": {
      "needs_background": "light"
     },
     "output_type": "display_data"
    }
   ],
   "source": [
    "write_file = False\n",
    "\n",
    "for i, temp in enumerate(temps):\n",
    "    start = index[i]\n",
    "    end = index[i]+counts[i]\n",
    "    strain = arr.T[1][start:end]\n",
    "    stress = arr.T[2][start:end]\n",
    "    \n",
    "    \n",
    "    # Create a cubic spline interpolation function\n",
    "    f = interp1d(strain, stress, kind='cubic')\n",
    "    \n",
    "    # Create a vector of x values to interpolate over\n",
    "    x_interp = np.linspace(strain[0], strain[-1], 1000)\n",
    "    \n",
    "    # Use the spline interpolation function to interpolate the y values\n",
    "    y_interp = f(x_interp)\n",
    "    \n",
    "    if write_file:        \n",
    "        # Write x and y values to a CSV file\n",
    "        csv_file = 'StressStrainPoints.csv'\n",
    "        with open(csv_file, 'w') as file:\n",
    "            file.write('Strain,Stress\\n')\n",
    "            for j in range(len(x_interp)):\n",
    "                file.write(f'{x_interp[j]},{y_interp[j]}\\n')\n",
    "    \n",
    "    \n",
    "    # Plot the interpolated curve and original data points\n",
    "    plt.plot(x_interp, y_interp)\n",
    "    \n",
    "    # Add axis labels, title, and legend\n",
    "    plt.xlabel('Strain [%]')\n",
    "    plt.ylabel('Stress [MPa]')\n",
    "    \n",
    "    #plt.title('Stress-Strain Curve for ~MATERIAL NAME/ Temperature~')\n",
    "    title = f'Stress-Strain Curve for {material}/{temp}°C'\n",
    "    plt.title(title)\n",
    "    \n",
    "    # Show the plot\n",
    "    plt.show()\n",
    "    \n"
   ]
  },
  {
   "cell_type": "code",
   "execution_count": 17,
   "id": "8876462a",
   "metadata": {},
   "outputs": [],
   "source": [
    "end = time.time_ns()"
   ]
  },
  {
   "cell_type": "code",
   "execution_count": 18,
   "id": "4db26e7f",
   "metadata": {},
   "outputs": [
    {
     "name": "stdout",
     "output_type": "stream",
     "text": [
      "1681706790608057500\n"
     ]
    }
   ],
   "source": [
    "print(end - start)"
   ]
  },
  {
   "cell_type": "code",
   "execution_count": null,
   "id": "64302743",
   "metadata": {},
   "outputs": [],
   "source": []
  }
 ],
 "metadata": {
  "kernelspec": {
   "display_name": "Python 3 (ipykernel)",
   "language": "python",
   "name": "python3"
  },
  "language_info": {
   "codemirror_mode": {
    "name": "ipython",
    "version": 3
   },
   "file_extension": ".py",
   "mimetype": "text/x-python",
   "name": "python",
   "nbconvert_exporter": "python",
   "pygments_lexer": "ipython3",
   "version": "3.9.12"
  }
 },
 "nbformat": 4,
 "nbformat_minor": 5
}
