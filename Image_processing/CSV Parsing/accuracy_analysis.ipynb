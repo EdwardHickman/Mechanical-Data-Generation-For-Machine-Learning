{
 "cells": [
  {
   "cell_type": "code",
   "execution_count": 1,
   "id": "078c4ec2",
   "metadata": {},
   "outputs": [],
   "source": [
    "import pandas as pd\n",
    "\n",
    "ours = pd.read_csv(\"output_csv\\Grilon BM 20 SBG natural (cond.)_23°C.csv\")\n",
    "theirs = pd.read_csv(\"baseset.csv\")"
   ]
  },
  {
   "cell_type": "code",
   "execution_count": 2,
   "id": "03fe1831",
   "metadata": {},
   "outputs": [
    {
     "data": {
      "text/html": [
       "<div>\n",
       "<style scoped>\n",
       "    .dataframe tbody tr th:only-of-type {\n",
       "        vertical-align: middle;\n",
       "    }\n",
       "\n",
       "    .dataframe tbody tr th {\n",
       "        vertical-align: top;\n",
       "    }\n",
       "\n",
       "    .dataframe thead th {\n",
       "        text-align: right;\n",
       "    }\n",
       "</style>\n",
       "<table border=\"1\" class=\"dataframe\">\n",
       "  <thead>\n",
       "    <tr style=\"text-align: right;\">\n",
       "      <th></th>\n",
       "      <th>Strain</th>\n",
       "      <th>Stress</th>\n",
       "    </tr>\n",
       "  </thead>\n",
       "  <tbody>\n",
       "    <tr>\n",
       "      <th>0</th>\n",
       "      <td>0.000000</td>\n",
       "      <td>0.000000</td>\n",
       "    </tr>\n",
       "    <tr>\n",
       "      <th>1</th>\n",
       "      <td>0.900901</td>\n",
       "      <td>7.651365</td>\n",
       "    </tr>\n",
       "    <tr>\n",
       "      <th>2</th>\n",
       "      <td>1.801802</td>\n",
       "      <td>13.897741</td>\n",
       "    </tr>\n",
       "    <tr>\n",
       "      <th>3</th>\n",
       "      <td>2.702703</td>\n",
       "      <td>18.879256</td>\n",
       "    </tr>\n",
       "    <tr>\n",
       "      <th>4</th>\n",
       "      <td>3.603604</td>\n",
       "      <td>22.736040</td>\n",
       "    </tr>\n",
       "    <tr>\n",
       "      <th>...</th>\n",
       "      <td>...</td>\n",
       "      <td>...</td>\n",
       "    </tr>\n",
       "    <tr>\n",
       "      <th>995</th>\n",
       "      <td>896.396396</td>\n",
       "      <td>69.672829</td>\n",
       "    </tr>\n",
       "    <tr>\n",
       "      <th>996</th>\n",
       "      <td>897.297297</td>\n",
       "      <td>69.753399</td>\n",
       "    </tr>\n",
       "    <tr>\n",
       "      <th>997</th>\n",
       "      <td>898.198198</td>\n",
       "      <td>69.834776</td>\n",
       "    </tr>\n",
       "    <tr>\n",
       "      <th>998</th>\n",
       "      <td>899.099099</td>\n",
       "      <td>69.916971</td>\n",
       "    </tr>\n",
       "    <tr>\n",
       "      <th>999</th>\n",
       "      <td>900.000000</td>\n",
       "      <td>70.000000</td>\n",
       "    </tr>\n",
       "  </tbody>\n",
       "</table>\n",
       "<p>1000 rows × 2 columns</p>\n",
       "</div>"
      ],
      "text/plain": [
       "         Strain     Stress\n",
       "0      0.000000   0.000000\n",
       "1      0.900901   7.651365\n",
       "2      1.801802  13.897741\n",
       "3      2.702703  18.879256\n",
       "4      3.603604  22.736040\n",
       "..          ...        ...\n",
       "995  896.396396  69.672829\n",
       "996  897.297297  69.753399\n",
       "997  898.198198  69.834776\n",
       "998  899.099099  69.916971\n",
       "999  900.000000  70.000000\n",
       "\n",
       "[1000 rows x 2 columns]"
      ]
     },
     "execution_count": 2,
     "metadata": {},
     "output_type": "execute_result"
    }
   ],
   "source": [
    "ours"
   ]
  },
  {
   "cell_type": "code",
   "execution_count": 3,
   "id": "22905994",
   "metadata": {},
   "outputs": [
    {
     "data": {
      "text/html": [
       "<div>\n",
       "<style scoped>\n",
       "    .dataframe tbody tr th:only-of-type {\n",
       "        vertical-align: middle;\n",
       "    }\n",
       "\n",
       "    .dataframe tbody tr th {\n",
       "        vertical-align: top;\n",
       "    }\n",
       "\n",
       "    .dataframe thead th {\n",
       "        text-align: right;\n",
       "    }\n",
       "</style>\n",
       "<table border=\"1\" class=\"dataframe\">\n",
       "  <thead>\n",
       "    <tr style=\"text-align: right;\">\n",
       "      <th></th>\n",
       "      <th>Strain</th>\n",
       "      <th>Stress</th>\n",
       "    </tr>\n",
       "  </thead>\n",
       "  <tbody>\n",
       "    <tr>\n",
       "      <th>0</th>\n",
       "      <td>0.000000</td>\n",
       "      <td>6.615575</td>\n",
       "    </tr>\n",
       "    <tr>\n",
       "      <th>1</th>\n",
       "      <td>0.900901</td>\n",
       "      <td>8.829341</td>\n",
       "    </tr>\n",
       "    <tr>\n",
       "      <th>2</th>\n",
       "      <td>1.801802</td>\n",
       "      <td>11.816482</td>\n",
       "    </tr>\n",
       "    <tr>\n",
       "      <th>3</th>\n",
       "      <td>2.702703</td>\n",
       "      <td>15.193640</td>\n",
       "    </tr>\n",
       "    <tr>\n",
       "      <th>4</th>\n",
       "      <td>3.603604</td>\n",
       "      <td>18.136664</td>\n",
       "    </tr>\n",
       "    <tr>\n",
       "      <th>...</th>\n",
       "      <td>...</td>\n",
       "      <td>...</td>\n",
       "    </tr>\n",
       "    <tr>\n",
       "      <th>995</th>\n",
       "      <td>896.396396</td>\n",
       "      <td>69.689101</td>\n",
       "    </tr>\n",
       "    <tr>\n",
       "      <th>996</th>\n",
       "      <td>897.297297</td>\n",
       "      <td>69.786515</td>\n",
       "    </tr>\n",
       "    <tr>\n",
       "      <th>997</th>\n",
       "      <td>898.198198</td>\n",
       "      <td>69.791062</td>\n",
       "    </tr>\n",
       "    <tr>\n",
       "      <th>998</th>\n",
       "      <td>899.099099</td>\n",
       "      <td>69.777246</td>\n",
       "    </tr>\n",
       "    <tr>\n",
       "      <th>999</th>\n",
       "      <td>900.000000</td>\n",
       "      <td>70.000000</td>\n",
       "    </tr>\n",
       "  </tbody>\n",
       "</table>\n",
       "<p>1000 rows × 2 columns</p>\n",
       "</div>"
      ],
      "text/plain": [
       "         Strain     Stress\n",
       "0      0.000000   6.615575\n",
       "1      0.900901   8.829341\n",
       "2      1.801802  11.816482\n",
       "3      2.702703  15.193640\n",
       "4      3.603604  18.136664\n",
       "..          ...        ...\n",
       "995  896.396396  69.689101\n",
       "996  897.297297  69.786515\n",
       "997  898.198198  69.791062\n",
       "998  899.099099  69.777246\n",
       "999  900.000000  70.000000\n",
       "\n",
       "[1000 rows x 2 columns]"
      ]
     },
     "execution_count": 3,
     "metadata": {},
     "output_type": "execute_result"
    }
   ],
   "source": [
    "theirs"
   ]
  },
  {
   "cell_type": "markdown",
   "id": "7a8dbcbb",
   "metadata": {},
   "source": [
    "Test to see if all the strain values are roughly equal (within 6 decimal places). \n",
    "\n",
    "After some tuning, it appears that they are not the same within 12 decimal places, but for our purposes, 6 decimal places is enough."
   ]
  },
  {
   "cell_type": "code",
   "execution_count": 32,
   "id": "cfb15307",
   "metadata": {},
   "outputs": [],
   "source": [
    "all_equal = True\n",
    "for i in range(1000):\n",
    "    if(not(ours['Strain'].loc[i]-theirs['Strain'].loc[i] < 10**-6)): all_equal = False"
   ]
  },
  {
   "cell_type": "code",
   "execution_count": 33,
   "id": "4479f1d8",
   "metadata": {},
   "outputs": [
    {
     "data": {
      "text/plain": [
       "True"
      ]
     },
     "execution_count": 33,
     "metadata": {},
     "output_type": "execute_result"
    }
   ],
   "source": [
    "all_equal"
   ]
  },
  {
   "cell_type": "markdown",
   "id": "85746e06",
   "metadata": {},
   "source": [
    "Given the fact that our strain values are the same, we can compute the distance between our csv and the one recieved from WebPlot Digitizer, by taking the average of the differences between each point."
   ]
  },
  {
   "cell_type": "code",
   "execution_count": 35,
   "id": "997c78bf",
   "metadata": {},
   "outputs": [
    {
     "data": {
      "text/plain": [
       "2.557468348207692e-12"
      ]
     },
     "execution_count": 35,
     "metadata": {},
     "output_type": "execute_result"
    }
   ],
   "source": [
    "num_points = 1000\n",
    "sum(abs(ours['Strain'] - theirs['Strain'])) / num_points"
   ]
  },
  {
   "cell_type": "markdown",
   "id": "514f9f34",
   "metadata": {},
   "source": [
    "therefore, our csv file differs from the WebPlot Digitizer data, by 2e-10 [%]"
   ]
  },
  {
   "cell_type": "code",
   "execution_count": null,
   "id": "6920c1c1",
   "metadata": {},
   "outputs": [],
   "source": []
  }
 ],
 "metadata": {
  "kernelspec": {
   "display_name": "Python 3 (ipykernel)",
   "language": "python",
   "name": "python3"
  },
  "language_info": {
   "codemirror_mode": {
    "name": "ipython",
    "version": 3
   },
   "file_extension": ".py",
   "mimetype": "text/x-python",
   "name": "python",
   "nbconvert_exporter": "python",
   "pygments_lexer": "ipython3",
   "version": "3.9.12"
  }
 },
 "nbformat": 4,
 "nbformat_minor": 5
}
